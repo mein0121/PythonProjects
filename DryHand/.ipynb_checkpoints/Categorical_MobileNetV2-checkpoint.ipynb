{
 "cells": [
  {
   "cell_type": "code",
   "execution_count": 1,
   "metadata": {},
   "outputs": [],
   "source": [
    "import os\n",
    "import shutil\n",
    "import numpy as np\n",
    "import matplotlib.pyplot as plt\n",
    "import tensorflow as tf\n",
    "from tensorflow import keras\n",
    "from tensorflow.keras import layers\n",
    "from tensorflow.keras.applications import VGG16, ResNet50V2, MobileNetV2\n",
    "from tensorflow.keras.preprocessing.image import ImageDataGenerator\n",
    "from tensorflow.keras.preprocessing.image import img_to_array, load_img\n",
    "# load_img 함수: 이미지 불러오기\n",
    "# img_to_array함수 : 불러온 이미지를 numpy 배열 (ndarray)로 변환\n",
    "# local에서 사용하려면 Pillow를 설치해야 한다. (pip install Pillow)\n",
    "\n",
    "# split data\n",
    "from sklearn.model_selection import train_test_split\n",
    "# library import\n",
    "import re\n",
    "import random\n",
    "import xml.etree.ElementTree as et\n",
    "from PIL import Image\n",
    " \n",
    "import cv2 \n",
    "from matplotlib.patches import Rectangle # 바운딩 박스를 그림\n",
    "\n",
    " # import the necessary packages\n",
    "from tensorflow.keras.applications import MobileNetV2\n",
    "from tensorflow.keras.layers import AveragePooling2D, Dropout, Flatten, Dense, Input\n",
    "from tensorflow.keras.models import Model\n",
    "from tensorflow.keras.optimizers import Adam\n",
    "from tensorflow.keras.applications.mobilenet_v2 import preprocess_input\n",
    "\n",
    "from tensorflow.keras.utils import to_categorical\n",
    "from sklearn.preprocessing import LabelBinarizer\n",
    "from sklearn.metrics import classification_report\n",
    "# from imutils import paths\n",
    "\n",
    "import argparse\n",
    "import datetime\n",
    "# EfficientNetB0\n",
    "from tensorflow.keras.applications import EfficientNetB0\n",
    "\n",
    "# print(tf.__version__)\n",
    "# print(keras.__version__)\n",
    "np.random.seed(1)\n",
    "tf.random.set_seed(1)"
   ]
  },
  {
   "cell_type": "code",
   "execution_count": 2,
   "metadata": {
    "pycharm": {
     "name": "#%%\n"
    }
   },
   "outputs": [],
   "source": [
    "# 하이퍼 파라미터\n",
    "LEARNING_RATE = 0.001\n",
    "N_EPOCHS = 50\n",
    "N_BATCHS = 50\n",
    "N_CLASS = 4 # 클래스 개수\n",
    "CLASS_MODE = 'categorical'\n",
    "INPUT_SHAPE = (640, 360, 3) # 학습할 이미지 shape\n",
    "IMAGE_SIZE = 224\n",
    "IMAGE_SIZE2 = 224\n",
    "########################### 모델에 맞춰 변경해야 한다!\n",
    "FEATURE_SHAPE = (20, 15, 512)\n",
    "\n",
    "BASE_PATH = ''\n",
    "ORIGINAL_PATH = './data/original'\n",
    "AUGMENT_PATH = './data/augmentImg'\n",
    "train_dir = './inputdata_preprocessing/classedImg/train'\n",
    "validation_dir = './inputdata_preprocessing/classedImg/val'\n",
    "test_dir = './inputdata_preprocessing/classedImg/test'"
   ]
  },
  {
   "cell_type": "code",
   "execution_count": 2,
   "metadata": {
    "pycharm": {
     "name": "#%%\n"
    }
   },
   "outputs": [],
   "source": [
    "# 데이터 증강\n",
    "# shutil.rmtree(AUGMENT_PATH, ignore_errors=True) # 디렉토리 비우기\n",
    "\n",
    "# for subpath in os.listdir(ORIGINAL_PATH):\n",
    "#     os.makedirs(os.path.join(AUGMENT_PATH, subpath), exist_ok=True)\n",
    "#     data_datagen = ImageDataGenerator(rescale=1/255,\n",
    "#                                       rotation_range=3,\n",
    "#                                       zoom_range=0.1,\n",
    "#                                       height_shift_range=0.2,\n",
    "#                                       width_shift_range=0.2,\n",
    "#                                       fill_mode='nearest')\n",
    "#     target_path = os.path.join(ORIGINAL_PATH, subpath)\n",
    "#     filename_in_dir=[]\n",
    "#     for (root, dirs, files) in os.walk(target_path):\n",
    "#         print(\"root \",root, \" dirs\", dirs, \" files \", files)\n",
    "#         for fname in files:\n",
    "#             full_fname = os.path.join(root, fname)\n",
    "#             filename_in_dir.append(full_fname)\n",
    "#     target_image_list = [fname for fname in filename_in_dir if os.path.splitext(fname)[-1]=='.png']\n",
    "#     print(\"target_image_list \", target_image_list)\n",
    "#     for file_image in target_image_list:\n",
    "#         img = load_img(file_image)\n",
    "#         x = img_to_array(img)\n",
    "#         x = x[np.newaxis,...]\n",
    "\n",
    "#         i=0\n",
    "#         for batch in data_datagen.flow(x, save_to_dir=os.path.join(AUGMENT_PATH, subpath), save_prefix='aug', save_format='png'):\n",
    "#             i += 1\n",
    "#             if i > 2: # 데이터 증가시킬 양 결정.\n",
    "#                 break"
   ]
  },
  {
   "cell_type": "code",
   "execution_count": 7,
   "metadata": {
    "pycharm": {
     "name": "#%%\n"
    }
   },
   "outputs": [
    {
     "name": "stdout",
     "output_type": "stream",
     "text": [
      "[840, 240, 120]\n"
     ]
    }
   ],
   "source": [
    "# 데이터 셋 나누기\n",
    "# 기존데이터 디렉토리 지우기\n",
    "shutil.rmtree(train_dir, ignore_errors=True)\n",
    "shutil.rmtree(validation_dir, ignore_errors=True)\n",
    "shutil.rmtree(test_dir, ignore_errors=True)\n",
    "\n",
    "os.makedirs(train_dir,exist_ok=True)\n",
    "os.makedirs(validation_dir,exist_ok=True)\n",
    "os.makedirs(test_dir,exist_ok=True)\n",
    "\n",
    "img_file_list = os.listdir(ORIGINAL_PATH)\n",
    "\n",
    "for i in range(len(img_file_list)): # 라벨폴더별\n",
    "    label = img_file_list[i]\n",
    "\n",
    "    train_under_dir = os.path.join(train_dir, label)\n",
    "    validation_under_dir = os.path.join(validation_dir, label)\n",
    "    test_under_dir = os.path.join(test_dir,label)\n",
    "\n",
    "    os.makedirs(train_under_dir, exist_ok=True)\n",
    "    os.makedirs(validation_under_dir, exist_ok=True)\n",
    "    os.makedirs(test_under_dir, exist_ok=True)\n",
    "\n",
    "    tmp_img_path = os.path.join(ORIGINAL_PATH, label)\n",
    "    img_list = os.listdir(tmp_img_path)\n",
    "    train_len= int(len(img_list)*0.7) # 70% train data\n",
    "    val_len = int(len(img_list)*0.9) # 20% val data, test = 10%\n",
    "    random.shuffle(img_list)\n",
    "\n",
    "    count = 0\n",
    "    for img_name in img_list:\n",
    "        if count < train_len:\n",
    "            shutil.copy(os.path.join(tmp_img_path,img_name), os.path.join(train_under_dir, img_name))\n",
    "        elif count < val_len:\n",
    "            shutil.copy(os.path.join(tmp_img_path,img_name), os.path.join(validation_under_dir, img_name))\n",
    "#             shutil.copy(os.path.join(tmp_img_path,img_name), os.path.join(validation_under_dir, img_name))\n",
    "        else:\n",
    "            shutil.copy(os.path.join(tmp_img_path,img_name), os.path.join(test_under_dir, img_name))\n",
    "#             shutil.copy(os.path.join(tmp_img_path, img_name), os.path.join(test_under_dir, img_name))\n",
    "        count+=1\n",
    "# train, val, test 각폴더내 데이터 개수\n",
    "data_cnts = []\n",
    "for dirs in [train_dir, validation_dir, test_dir]:\n",
    "    cnt = 0\n",
    "    for (path, dir, files) in os.walk(dirs):\n",
    "        cnt += len(files)\n",
    "    data_cnts.append(cnt)\n",
    "print(data_cnts)"
   ]
  },
  {
   "cell_type": "code",
   "execution_count": 3,
   "metadata": {
    "pycharm": {
     "name": "#%%\n"
    }
   },
   "outputs": [],
   "source": [
    "def get_generators():\n",
    "    '''\n",
    "    train, validation, test generator를 생성해서 반환.\n",
    "    train generator는 image 변환 처리\n",
    "    '''\n",
    "    # 상하좌우 이동, 확대, 회전 이미지로 증강\n",
    "    train_datagen = ImageDataGenerator(rescale=1/255,\n",
    "                                       rotation_range=3,\n",
    "                                       zoom_range=0.2,\n",
    "                                       height_shift_range=0.1,\n",
    "                                       width_shift_range=0.1,\n",
    "                                       fill_mode='nearest'\n",
    "                                       )\n",
    "\n",
    "    test_datagen = ImageDataGenerator(rescale=1/255) #validation/test에서 사용\n",
    "\n",
    "    # generator 들 생성\n",
    "    # 첫번째는 먼저 한동작이므로 동작과 비동작으로 바이너리 구분만\n",
    "    train_generator = train_datagen.flow_from_directory(train_dir,\n",
    "                                                        target_size=(IMAGE_SIZE2,IMAGE_SIZE),\n",
    "                                                        batch_size=N_BATCHS,\n",
    "                                                        class_mode=CLASS_MODE)\n",
    "    val_generator = test_datagen.flow_from_directory(validation_dir,\n",
    "                                                     target_size=(IMAGE_SIZE2,IMAGE_SIZE),\n",
    "                                                     batch_size=N_BATCHS,\n",
    "                                                     class_mode=CLASS_MODE)\n",
    "    test_generator = test_datagen.flow_from_directory(test_dir,\n",
    "                                                      target_size=(IMAGE_SIZE2,IMAGE_SIZE),\n",
    "                                                      batch_size=N_BATCHS,\n",
    "                                                      class_mode=CLASS_MODE)\n",
    "    return train_generator, val_generator, test_generator"
   ]
  },
  {
   "cell_type": "code",
   "execution_count": 4,
   "metadata": {
    "pycharm": {
     "name": "#%%\n"
    }
   },
   "outputs": [],
   "source": [
    "# 결과 출력 function\n",
    "def plot_result(history, ymin=None, ymax=None):\n",
    "    plt.figure(figsize=(15,5))\n",
    "\n",
    "    plt.subplot(1,2,1)\n",
    "    plt.plot(range(1,N_EPOCHS+1), history.history['loss'], label=\"train_loss\")\n",
    "    plt.plot(range(1,N_EPOCHS+1), history.history['val_loss'], label=\"val_loss\")\n",
    "    plt.title('Loss')\n",
    "    plt.xlabel('Epochs')\n",
    "    plt.ylabel('Loss')\n",
    "    if ymin is not None and ymax is not None:\n",
    "        plt.ylim(ymin,ymax)\n",
    "    plt.legend()\n",
    "\n",
    "    plt.subplot(1,2,2)\n",
    "    plt.plot(range(1,N_EPOCHS+1), history.history['accuracy'], label=\"train_accuracy\")\n",
    "    plt.plot(range(1,N_EPOCHS+1), history.history['val_accuracy'], label=\"val_accuracy\")\n",
    "    plt.title('Accuracy')\n",
    "    plt.xlabel('Epochs')\n",
    "    plt.ylabel('Accuracy')\n",
    "    if ymin is not None and ymax is not None:\n",
    "        plt.ylim(ymin,ymax)\n",
    "    plt.legend()\n",
    "\n",
    "    plt.tight_layout()\n",
    "    plt.show()"
   ]
  },
  {
   "cell_type": "code",
   "execution_count": 11,
   "metadata": {
    "pycharm": {
     "name": "#%%\n"
    }
   },
   "outputs": [],
   "source": [
    "def create_model():\n",
    " \n",
    "    conv_base = MobileNetV2(weights='imagenet',\n",
    "                            include_top=False,\n",
    "                            input_tensor=Input(shape=(224, 224,3))\n",
    "                            )\n",
    "    conv_base.trainable=False # 학습시 weight 최적화(update)를 하지 않도록 설정. => 모델 컴파일 전에 실행\n",
    "\n",
    "    model = keras.Sequential()\n",
    "    model.add(layers.InputLayer((224,224,3)))\n",
    "    model.add(conv_base)\n",
    "    model.add(layers.GlobalAveragePooling2D())\n",
    "    model.add(layers.Dense(256, activation='relu'))\n",
    "    model.add(layers.BatchNormalization()) # 찾아보기\n",
    "    model.add(layers.Dense(128, activation='relu'))\n",
    "    model.add(layers.Dropout(rate=0.5))\n",
    "\n",
    "    # 출력\n",
    "    model.add(layers.Dense(N_CLASS, activation='softmax'))\n",
    "\n",
    "    return model"
   ]
  },
  {
   "cell_type": "code",
   "execution_count": 12,
   "metadata": {
    "pycharm": {
     "name": "#%%\n"
    }
   },
   "outputs": [
    {
     "name": "stdout",
     "output_type": "stream",
     "text": [
      "WARNING:tensorflow:`input_shape` is undefined or non-square, or `rows` is not in [96, 128, 160, 192, 224]. Weights for input shape (224, 224) will be loaded as the default.\n",
      "Model: \"sequential_3\"\n",
      "_________________________________________________________________\n",
      "Layer (type)                 Output Shape              Param #   \n",
      "=================================================================\n",
      "mobilenetv2_1.00_224 (Functi (None, 7, 7, 1280)        2257984   \n",
      "_________________________________________________________________\n",
      "global_average_pooling2d_3 ( (None, 1280)              0         \n",
      "_________________________________________________________________\n",
      "dense_9 (Dense)              (None, 256)               327936    \n",
      "_________________________________________________________________\n",
      "batch_normalization_3 (Batch (None, 256)               1024      \n",
      "_________________________________________________________________\n",
      "dense_10 (Dense)             (None, 128)               32896     \n",
      "_________________________________________________________________\n",
      "dropout_3 (Dropout)          (None, 128)               0         \n",
      "_________________________________________________________________\n",
      "dense_11 (Dense)             (None, 4)                 516       \n",
      "=================================================================\n",
      "Total params: 2,620,356\n",
      "Trainable params: 361,860\n",
      "Non-trainable params: 2,258,496\n",
      "_________________________________________________________________\n"
     ]
    }
   ],
   "source": [
    "model = create_model()\n",
    "model.summary()\n",
    "model.compile(optimizer=keras.optimizers.Adam(learning_rate=LEARNING_RATE),\n",
    "              loss='categorical_crossentropy', metrics=['accuracy']\n",
    "              )"
   ]
  },
  {
   "cell_type": "code",
   "execution_count": 7,
   "metadata": {
    "pycharm": {
     "name": "#%%\n"
    }
   },
   "outputs": [
    {
     "name": "stdout",
     "output_type": "stream",
     "text": [
      "Found 840 images belonging to 4 classes.\n",
      "Found 240 images belonging to 4 classes.\n",
      "Found 120 images belonging to 4 classes.\n"
     ]
    }
   ],
   "source": [
    "train_iterator, validation_iterator, test_iterator = get_generators()"
   ]
  },
  {
   "cell_type": "code",
   "execution_count": 8,
   "metadata": {
    "pycharm": {
     "name": "#%%\n"
    }
   },
   "outputs": [],
   "source": [
    "# 학습 설정 콜백 함수\n",
    "MODEL_PATH = './models'\n",
    "callback_path = os.path.join(MODEL_PATH, 'save_model_{epoch:02d}.ckpt')\n",
    "mc_callback = keras.callbacks.ModelCheckpoint(callback_path, monitor='val_loss', save_best_only=True)"
   ]
  },
  {
   "cell_type": "code",
   "execution_count": 9,
   "metadata": {
    "pycharm": {
     "name": "#%%\n"
    },
    "scrolled": false
   },
   "outputs": [
    {
     "name": "stdout",
     "output_type": "stream",
     "text": [
      "Epoch 1/50\n",
      "17/17 [==============================] - 15s 545ms/step - loss: 1.2037 - accuracy: 0.5012 - val_loss: 0.9587 - val_accuracy: 0.5583\n",
      "Epoch 2/50\n",
      "17/17 [==============================] - 8s 497ms/step - loss: 0.7355 - accuracy: 0.6786 - val_loss: 1.3420 - val_accuracy: 0.5375\n",
      "Epoch 3/50\n",
      "17/17 [==============================] - 8s 496ms/step - loss: 0.6189 - accuracy: 0.7357 - val_loss: 0.8564 - val_accuracy: 0.5917\n",
      "Epoch 4/50\n",
      "17/17 [==============================] - 8s 503ms/step - loss: 0.5759 - accuracy: 0.7405 - val_loss: 1.2791 - val_accuracy: 0.5375\n",
      "Epoch 5/50\n",
      "17/17 [==============================] - 9s 503ms/step - loss: 0.5073 - accuracy: 0.7786 - val_loss: 0.8159 - val_accuracy: 0.6167\n",
      "Epoch 6/50\n",
      "17/17 [==============================] - 8s 497ms/step - loss: 0.4662 - accuracy: 0.8000 - val_loss: 0.7850 - val_accuracy: 0.6208\n",
      "Epoch 7/50\n",
      "17/17 [==============================] - 8s 499ms/step - loss: 0.4457 - accuracy: 0.8000 - val_loss: 0.5888 - val_accuracy: 0.7125\n",
      "Epoch 8/50\n",
      "17/17 [==============================] - 9s 501ms/step - loss: 0.3952 - accuracy: 0.8310 - val_loss: 0.6589 - val_accuracy: 0.7458\n",
      "Epoch 9/50\n",
      "17/17 [==============================] - 9s 502ms/step - loss: 0.3935 - accuracy: 0.8274 - val_loss: 0.8172 - val_accuracy: 0.6417\n",
      "Epoch 10/50\n",
      "17/17 [==============================] - 9s 500ms/step - loss: 0.3762 - accuracy: 0.8381 - val_loss: 0.5405 - val_accuracy: 0.7458\n",
      "Epoch 11/50\n",
      "17/17 [==============================] - 9s 501ms/step - loss: 0.3171 - accuracy: 0.8655 - val_loss: 0.4906 - val_accuracy: 0.7792\n",
      "Epoch 12/50\n",
      "17/17 [==============================] - 9s 501ms/step - loss: 0.3137 - accuracy: 0.8750 - val_loss: 0.4642 - val_accuracy: 0.8000\n",
      "Epoch 13/50\n",
      "17/17 [==============================] - 9s 501ms/step - loss: 0.3132 - accuracy: 0.8750 - val_loss: 0.5260 - val_accuracy: 0.7833\n",
      "Epoch 14/50\n",
      "17/17 [==============================] - 8s 497ms/step - loss: 0.2971 - accuracy: 0.8833 - val_loss: 0.4844 - val_accuracy: 0.8042\n",
      "Epoch 15/50\n",
      "17/17 [==============================] - 8s 497ms/step - loss: 0.2899 - accuracy: 0.8786 - val_loss: 0.4828 - val_accuracy: 0.8125\n",
      "Epoch 16/50\n",
      "17/17 [==============================] - 9s 502ms/step - loss: 0.2642 - accuracy: 0.8893 - val_loss: 0.5972 - val_accuracy: 0.7667\n",
      "Epoch 17/50\n",
      "17/17 [==============================] - 9s 500ms/step - loss: 0.3003 - accuracy: 0.8857 - val_loss: 0.6275 - val_accuracy: 0.7458\n",
      "Epoch 18/50\n",
      "17/17 [==============================] - 8s 499ms/step - loss: 0.2656 - accuracy: 0.8881 - val_loss: 0.5850 - val_accuracy: 0.7667\n",
      "Epoch 19/50\n",
      "17/17 [==============================] - 9s 503ms/step - loss: 0.2307 - accuracy: 0.9167 - val_loss: 0.7435 - val_accuracy: 0.7125\n",
      "Epoch 20/50\n",
      "17/17 [==============================] - 8s 499ms/step - loss: 0.2222 - accuracy: 0.9083 - val_loss: 0.7345 - val_accuracy: 0.7208\n",
      "Epoch 21/50\n",
      "17/17 [==============================] - 8s 500ms/step - loss: 0.2189 - accuracy: 0.9131 - val_loss: 0.5733 - val_accuracy: 0.7417\n",
      "Epoch 22/50\n",
      "17/17 [==============================] - 8s 498ms/step - loss: 0.1994 - accuracy: 0.9298 - val_loss: 0.5896 - val_accuracy: 0.7792\n",
      "Epoch 23/50\n",
      "17/17 [==============================] - 8s 505ms/step - loss: 0.2241 - accuracy: 0.9060 - val_loss: 0.4998 - val_accuracy: 0.7958\n",
      "Epoch 24/50\n",
      "17/17 [==============================] - 8s 499ms/step - loss: 0.2085 - accuracy: 0.9298 - val_loss: 0.9075 - val_accuracy: 0.7000\n",
      "Epoch 25/50\n",
      "17/17 [==============================] - 9s 502ms/step - loss: 0.2057 - accuracy: 0.9179 - val_loss: 0.5316 - val_accuracy: 0.7792\n",
      "Epoch 26/50\n",
      "17/17 [==============================] - 9s 500ms/step - loss: 0.2000 - accuracy: 0.9286 - val_loss: 0.4857 - val_accuracy: 0.7958\n",
      "Epoch 27/50\n",
      "17/17 [==============================] - 9s 501ms/step - loss: 0.1685 - accuracy: 0.9321 - val_loss: 0.6801 - val_accuracy: 0.7542\n",
      "Epoch 28/50\n",
      "17/17 [==============================] - 8s 499ms/step - loss: 0.1739 - accuracy: 0.9357 - val_loss: 0.4798 - val_accuracy: 0.8125\n",
      "Epoch 29/50\n",
      "17/17 [==============================] - 9s 500ms/step - loss: 0.1672 - accuracy: 0.9381 - val_loss: 0.5128 - val_accuracy: 0.8042\n",
      "Epoch 30/50\n",
      "17/17 [==============================] - 9s 508ms/step - loss: 0.2114 - accuracy: 0.9167 - val_loss: 0.6022 - val_accuracy: 0.7708\n",
      "Epoch 31/50\n",
      "17/17 [==============================] - 9s 501ms/step - loss: 0.1651 - accuracy: 0.9429 - val_loss: 0.6567 - val_accuracy: 0.7417\n",
      "Epoch 32/50\n",
      "17/17 [==============================] - 9s 500ms/step - loss: 0.1758 - accuracy: 0.9357 - val_loss: 0.5152 - val_accuracy: 0.8083\n",
      "Epoch 33/50\n",
      "17/17 [==============================] - 8s 499ms/step - loss: 0.1779 - accuracy: 0.9310 - val_loss: 0.5392 - val_accuracy: 0.7917\n",
      "Epoch 34/50\n",
      "17/17 [==============================] - 9s 501ms/step - loss: 0.1311 - accuracy: 0.9464 - val_loss: 0.4994 - val_accuracy: 0.8042\n",
      "Epoch 35/50\n",
      "17/17 [==============================] - 9s 502ms/step - loss: 0.1687 - accuracy: 0.9321 - val_loss: 0.7488 - val_accuracy: 0.7292\n",
      "Epoch 36/50\n",
      "17/17 [==============================] - 9s 500ms/step - loss: 0.2217 - accuracy: 0.9226 - val_loss: 0.8614 - val_accuracy: 0.7292\n",
      "Epoch 37/50\n",
      "17/17 [==============================] - 9s 502ms/step - loss: 0.1602 - accuracy: 0.9429 - val_loss: 0.5157 - val_accuracy: 0.8250\n",
      "Epoch 38/50\n",
      "17/17 [==============================] - 9s 502ms/step - loss: 0.2052 - accuracy: 0.9155 - val_loss: 0.4395 - val_accuracy: 0.8250\n",
      "Epoch 39/50\n",
      "17/17 [==============================] - 9s 501ms/step - loss: 0.1862 - accuracy: 0.9274 - val_loss: 0.4534 - val_accuracy: 0.8042\n",
      "Epoch 40/50\n",
      "17/17 [==============================] - 9s 504ms/step - loss: 0.1825 - accuracy: 0.9298 - val_loss: 0.6789 - val_accuracy: 0.7667\n",
      "Epoch 41/50\n",
      "17/17 [==============================] - 9s 502ms/step - loss: 0.1692 - accuracy: 0.9357 - val_loss: 0.6517 - val_accuracy: 0.7958\n",
      "Epoch 42/50\n",
      "17/17 [==============================] - 9s 502ms/step - loss: 0.1487 - accuracy: 0.9369 - val_loss: 0.7890 - val_accuracy: 0.7875\n",
      "Epoch 43/50\n",
      "17/17 [==============================] - 9s 507ms/step - loss: 0.1617 - accuracy: 0.9345 - val_loss: 0.6343 - val_accuracy: 0.7917\n",
      "Epoch 44/50\n",
      "17/17 [==============================] - 9s 506ms/step - loss: 0.1536 - accuracy: 0.9512 - val_loss: 0.6768 - val_accuracy: 0.7500\n",
      "Epoch 45/50\n",
      "17/17 [==============================] - 9s 502ms/step - loss: 0.1614 - accuracy: 0.9357 - val_loss: 1.1192 - val_accuracy: 0.7292\n",
      "Epoch 46/50\n",
      "17/17 [==============================] - 9s 500ms/step - loss: 0.1683 - accuracy: 0.9393 - val_loss: 1.3591 - val_accuracy: 0.6500\n",
      "Epoch 47/50\n",
      "17/17 [==============================] - 9s 507ms/step - loss: 0.1735 - accuracy: 0.9286 - val_loss: 0.5732 - val_accuracy: 0.7958\n",
      "Epoch 48/50\n",
      "17/17 [==============================] - 9s 502ms/step - loss: 0.1256 - accuracy: 0.9571 - val_loss: 0.4444 - val_accuracy: 0.8167\n",
      "Epoch 49/50\n",
      "17/17 [==============================] - 9s 502ms/step - loss: 0.1458 - accuracy: 0.9357 - val_loss: 0.5220 - val_accuracy: 0.8083\n",
      "Epoch 50/50\n",
      "17/17 [==============================] - 9s 502ms/step - loss: 0.1529 - accuracy: 0.9333 - val_loss: 0.5779 - val_accuracy: 0.8167\n"
     ]
    }
   ],
   "source": [
    "history = model.fit(train_iterator,\n",
    "                    epochs=N_EPOCHS,\n",
    "                    steps_per_epoch=len(train_iterator),\n",
    "                    validation_data=validation_iterator,\n",
    "                    validation_steps=len(validation_iterator),\n",
    "#                     callbacks=[mc_callback]\n",
    "                    )"
   ]
  },
  {
   "cell_type": "code",
   "execution_count": 17,
   "metadata": {},
   "outputs": [
    {
     "name": "stdout",
     "output_type": "stream",
     "text": [
      "2021-06-23_09:57:25\n"
     ]
    }
   ],
   "source": [
    "dtime = datetime.datetime.now()\n",
    "ptime = dtime.strftime('%Y-%m-%d_%H-%M-%S')\n",
    "print(ptime)"
   ]
  },
  {
   "cell_type": "code",
   "execution_count": 19,
   "metadata": {
    "pycharm": {
     "name": "#%%\n"
    }
   },
   "outputs": [
    {
     "name": "stderr",
     "output_type": "stream",
     "text": [
      "C:\\Users\\mein0\\AppData\\Roaming\\Python\\Python38\\site-packages\\tensorflow\\python\\keras\\utils\\generic_utils.py:494: CustomMaskWarning: Custom mask layers require a config and must override get_config. When loading, the custom mask layer must be passed to the custom_objects argument.\n",
      "  warnings.warn('Custom mask layers require a config and must override '\n"
     ]
    }
   ],
   "source": [
    "# 모델 저장\n",
    "t = datetime.datetime.now()\n",
    "ttime = dtime.strftime('%Y-%m-%d_%H-%M-%S')\n",
    "# t = datetime.datetime().now().strftime('%Y')\n",
    "save_model_path = os.path.join(MODEL_PATH, f'MobileNetV2-{ttime}.h5')\n",
    "model.save(save_model_path, save_format='h5')\n",
    "\n",
    "# 모델 load\n",
    "# model = keras.models.load_model(os.path.join(save_model_path, '파일'))"
   ]
  },
  {
   "cell_type": "code",
   "execution_count": 20,
   "metadata": {
    "pycharm": {
     "name": "#%%\n"
    }
   },
   "outputs": [
    {
     "name": "stdout",
     "output_type": "stream",
     "text": [
      "3/3 [==============================] - 1s 210ms/step - loss: 0.5552 - accuracy: 0.8250\n"
     ]
    },
    {
     "data": {
      "text/plain": [
       "[0.5552066564559937, 0.824999988079071]"
      ]
     },
     "execution_count": 20,
     "metadata": {},
     "output_type": "execute_result"
    }
   ],
   "source": [
    "# test evaluation\n",
    "model.evaluate(test_iterator)"
   ]
  },
  {
   "cell_type": "code",
   "execution_count": 21,
   "metadata": {
    "pycharm": {
     "name": "#%%\n"
    }
   },
   "outputs": [
    {
     "data": {
      "image/png": "[encoded data removed]",
      "text/plain": [
       "<Figure size 1080x360 with 2 Axes>"
      ]
     },
     "metadata": {
      "needs_background": "light"
     },
     "output_type": "display_data"
    }
   ],
   "source": [
    "plot_result(history)"
   ]
  },
  {
   "cell_type": "code",
   "execution_count": null,
   "metadata": {
    "pycharm": {
     "name": "#%%\n"
    }
   },
   "outputs": [],
   "source": []
  }
 ],
 "metadata": {
  "kernelspec": {
   "display_name": "Python 3",
   "language": "python",
   "name": "python3"
  },
  "language_info": {
   "codemirror_mode": {
    "name": "ipython",
    "version": 3
   },
   "file_extension": ".py",
   "mimetype": "text/x-python",
   "name": "python",
   "nbconvert_exporter": "python",
   "pygments_lexer": "ipython3",
   "version": "3.8.10"
  }
 },
 "nbformat": 4,
 "nbformat_minor": 1
}
