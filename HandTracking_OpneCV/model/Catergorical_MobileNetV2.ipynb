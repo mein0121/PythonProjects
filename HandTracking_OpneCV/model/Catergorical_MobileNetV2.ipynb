{
 "cells": [
  {
   "cell_type": "code",
   "execution_count": null,
   "metadata": {},
   "outputs": [],
   "source": [
    "from google.colab import drive\n",
    "drive.mount('/content/gdrive/')"
   ]
  },
  {
   "cell_type": "code",
   "execution_count": null,
   "metadata": {},
   "outputs": [],
   "source": []
  },
  {
   "cell_type": "code",
   "execution_count": null,
   "metadata": {},
   "outputs": [],
   "source": [
    "import numpy as np\n",
    "import tensorflow as tf\n",
    "from tensorflow import keras\n",
    "from tensorflow.keras.preprocessing.image import load_img, img_to_array\n",
    "# load_img 함수: 이미지 불러오기\n",
    "# img_to_array함수 : 불러온 이미지를 numpy 배열 (ndarray)로 변환\n",
    "# local에서 사용하려면 Pillow를 설치해야 한다. (pip install Pillow)\n",
    "\n",
    "# Extract features\n",
    "import os\n",
    "import shutil\n",
    "from os import rename, listdir\n",
    "from keras.preprocessing.image import ImageDataGenerator\n",
    "# split data\n",
    "from sklearn.model_selection import train_test_split\n",
    "# library import\n",
    "import re\n",
    "import random\n",
    "import xml.etree.ElementTree as et\n",
    "from PIL import Image\n",
    " \n",
    "import cv2 \n",
    "import matplotlib.pyplot as plt\n",
    "from matplotlib.patches import Rectangle # 바운딩 박스를 그림\n",
    "\n",
    " # import the necessary packages\n",
    "from tensorflow.keras.applications import MobileNetV2\n",
    "from tensorflow.keras.layers import AveragePooling2D\n",
    "from tensorflow.keras.layers import Dropout\n",
    "from tensorflow.keras.layers import Flatten\n",
    "from tensorflow.keras.layers import Dense\n",
    "from tensorflow.keras.layers import Input\n",
    "from tensorflow.keras.models import Model\n",
    "from tensorflow.keras.optimizers import Adam\n",
    "from tensorflow.keras.applications.mobilenet_v2 import preprocess_input\n",
    "from tensorflow.keras.preprocessing.image import img_to_array\n",
    "from tensorflow.keras.preprocessing.image import load_img\n",
    "from tensorflow.keras.utils import to_categorical\n",
    "from sklearn.preprocessing import LabelBinarizer\n",
    "from sklearn.metrics import classification_report\n",
    "from imutils import paths\n",
    "import matplotlib.pyplot as plt\n",
    "import argparse\n",
    "\n",
    "# EfficientNetB0\n",
    "from tensorflow.keras.applications import EfficientNetB0\n",
    "\n",
    "# print(tf.__version__)\n",
    "# print(keras.__version__)\n",
    "np.random.seed(1)\n",
    "tf.random.set_seed(1)"
   ]
  },
  {
   "cell_type": "code",
   "execution_count": 1,
   "metadata": {},
   "outputs": [
    {
     "name": "stderr",
     "output_type": "stream",
     "text": [
      "'pwd'은(는) 내부 또는 외부 명령, 실행할 수 있는 프로그램, 또는\n",
      "배치 파일이 아닙니다.\n"
     ]
    }
   ],
   "source": [
    "!pwd"
   ]
  },
  {
   "cell_type": "code",
   "execution_count": null,
   "metadata": {},
   "outputs": [],
   "source": [
    "#data/train\n",
    "%cd /content/gdrive/My\\ Drive/final_project"
   ]
  },
  {
   "cell_type": "code",
   "execution_count": null,
   "metadata": {},
   "outputs": [],
   "source": [
    "os.getcwd()"
   ]
  },
  {
   "cell_type": "code",
   "execution_count": null,
   "metadata": {},
   "outputs": [],
   "source": [
    "PATH = \"./data\"\n",
    "# 카피\n",
    "img_file_list = os.listdir(PATH) # IMAGE_PATH에 있는 파일/폴더명 조회\n",
    "# print(img_file_list[:30])\n",
    "print(len(img_file_list))\n",
    "print(img_file_list)"
   ]
  },
  {
   "cell_type": "code",
   "execution_count": null,
   "metadata": {},
   "outputs": [],
   "source": [
    "print(os.listdir('./data/original'))\n",
    "print(os.listdir('./data/original/fast_forward'))"
   ]
  },
  {
   "cell_type": "code",
   "execution_count": null,
   "metadata": {},
   "outputs": [],
   "source": [
    "# 직선의 경우 기울기를 많이 돌려야 하지 않아야 해서 3로 설정\n",
    "# https://keras.io/api/preprocessing/image/#imagedatagenerator\n",
    "# https://ysyblog.tistory.com/152\n",
    "# https://tykimos.github.io/2017/06/10/CNN_Data_Augmentation/\n",
    "ORIGINAL_PATH = './data/original/'\n",
    "for p in os.listdir(ORIGINAL_PATH):\n",
    "    # print(p)\n",
    "    PATH = p\n",
    "\n",
    "    data_datagen = ImageDataGenerator(rescale=1./255,\n",
    "                                    rotation_range=3, # 지정된 각도 범위 내에서 임의로 원본 이미지 회전\n",
    "                                    #    shear_range=0.5,  \n",
    "                                    width_shift_range=0.1,\n",
    "                                    height_shift_range=0.1,\n",
    "                                    zoom_range = 0.1,\n",
    "                                    #    horizontal_flip=True,\n",
    "                                    #    vertical_flip=True,\n",
    "                                    fill_mode='nearest') \n",
    "    filename_in_dir = [] \n",
    "    target_path = ORIGINAL_PATH + p\n",
    "    for root, dirs, files in os.walk(target_path):\n",
    "        for  fname in files:\n",
    "            full_fname = os.path.join(root, fname)\n",
    "            filename_in_dir.append(full_fname)\n",
    "\n",
    "    target_image_list = [fname for fname in filename_in_dir if os.path.splitext(fname)[-1]=='.png']\n",
    "    for file_image in target_image_list:\n",
    "        img = load_img(file_image)\n",
    "        x = img_to_array(img)\n",
    "        x = x.reshape((1,) + x.shape)\n",
    "    \n",
    "        i = 0\n",
    "    \n",
    "        for batch in data_datagen.flow(x,save_to_dir='./data/'+p, save_prefix='changed', save_format='png'):\n",
    "            i += 1\n",
    "            if i > 300:\n",
    "            # if i > 100: 이 부분으로 증가시킬 양을 결정할 수 있다.\n",
    "                break"
   ]
  },
  {
   "cell_type": "code",
   "execution_count": null,
   "metadata": {},
   "outputs": [],
   "source": [
    "# img_list\n",
    "img = cv2.imread('./data/forward/changed_0_0.png', cv2.IMREAD_UNCHANGED)\n",
    "# File Size : 579Kb\n",
    "print(\"Image Size : \",img.size) # (475 x 600 x 3) ==> 855Kb\n",
    "print(\"Image Shape : \",img.shape) # (height, width, channel)\n",
    "print(\"Image Data Type : \", img.dtype) # unsigned integer 8 bit\n",
    "# cv2.imwrite(\"00001.jpg\", img) # file size : 173 Kb jpg로 바꾸면 크기 바뀐다던데 전혀 안바뀌더라구요..^^.."
   ]
  },
  {
   "cell_type": "code",
   "execution_count": null,
   "metadata": {},
   "outputs": [],
   "source": [
    "data_path = [f for f in os.listdir('./data') if f != 'original']\n",
    "print(data_path)"
   ]
  },
  {
   "cell_type": "code",
   "execution_count": null,
   "metadata": {},
   "outputs": [],
   "source": [
    "!pwd"
   ]
  },
  {
   "cell_type": "code",
   "execution_count": null,
   "metadata": {},
   "outputs": [],
   "source": [
    "FORWARD_PATH = './data/forward'\n",
    "FAST_FORWARD_PATH= './data/fast_forward'\n",
    "BACKWARD_PATH = './data/backward'\n",
    "forward_list = os.listdir(FORWARD_PATH)\n",
    "fast_forward_list = os.listdir(FAST_FORWARD_PATH)\n",
    "backward_list = os.listdir(BACKWARD_PATH)"
   ]
  },
  {
   "cell_type": "code",
   "execution_count": null,
   "metadata": {},
   "outputs": [],
   "source": [
    "print(backward_list)"
   ]
  },
  {
   "cell_type": "code",
   "execution_count": null,
   "metadata": {},
   "outputs": [],
   "source": [
    "def copy_to_train(img_list, train_path, test_path, label):\n",
    "    count = 0\n",
    "    current_label = None\n",
    "    train_len = int(len(img_list)*0.7)\n",
    "    random.shuffle(img_list)\n",
    "\n",
    "    for img_name in img_list:\n",
    "        # label = img_list.split('_')[0]\n",
    "        if current_label != label: # 새로운 라벨 카피 시작\n",
    "            count = 0\n",
    "            current_label = label\n",
    "\n",
    "        if label == 'forward':\n",
    "            pa = FORWARD_PATH + '/'\n",
    "            th = '/forward/'\n",
    "        elif label == 'fast':\n",
    "            pa = FAST_FORWARD_PATH + '/'\n",
    "            th = '/fast_forward/'\n",
    "        elif label == 'backward':\n",
    "            pa = BACKWARD_PATH + '/'\n",
    "            th = '/backward/'\n",
    "\n",
    "        # count가 train_len(12)보다 작으면 train 폴더에 copy, 이상이면 test 폴더에 copy\n",
    "        if count < train_len:\n",
    "            shutil.copy(pa + img_name, train_path + th) # 이미지 copy\n",
    "            # print(train_path + th + img_name) < 얘는 왜 안대지? 어이없네 ㅡㅡ\n",
    "        else:\n",
    "            shutil.copy(pa + img_name, test_path + th)\n",
    "\n",
    "        count += 1"
   ]
  },
  {
   "cell_type": "code",
   "execution_count": null,
   "metadata": {},
   "outputs": [],
   "source": [
    "# mask_list, nomask_list -> train과 test로 분리\n",
    "copy_to_train(forward_list,\"./train\",'./test','forward')\n",
    "copy_to_train(fast_forward_list,\"./train\",'./test','fast')\n",
    "copy_to_train(backward_list,\"./train\",'./test','backward')"
   ]
  },
  {
   "cell_type": "code",
   "execution_count": null,
   "metadata": {},
   "outputs": [],
   "source": [
    "LEARNING_RATE = 0.0002\n",
    "N_EPOCHS = 50\n",
    "N_BATCHS = 200\n",
    "# N_BATCHS = 100\n",
    "IMAGE_SIZE = 224\n",
    "N_CLASS = 3\n",
    "DROPOUT_RATE = 0.3"
   ]
  },
  {
   "cell_type": "code",
   "execution_count": null,
   "metadata": {},
   "outputs": [],
   "source": [
    "# 학습데이터 및 모델 경로 설정\n",
    "train_dir = './train'\n",
    "validation_dir = './test'\n",
    "# test_dir = './data/test'\n",
    "# MODEL_PATH = './models/cat_dog_model'\n",
    "\n",
    "\n",
    "# 데이터 증강\n",
    "def get_generators():\n",
    "    '''\n",
    "    train, validation, test generator를 생성해서 반환.\n",
    "    train generator는 image 변환 처리\n",
    "    '''\n",
    "    train_datagen = ImageDataGenerator(rescale=1/255,\n",
    "                                       brightness_range=(0.8,1.2))\n",
    "    test_datagen = ImageDataGenerator(rescale=1/255)\n",
    "\n",
    "    # generator 들 생성\n",
    "    # 첫번째는 먼저 한동작이므로 동작과 비동작으로 바이너리 구분만\n",
    "    train_generator = train_datagen.flow_from_directory(train_dir,\n",
    "                                                        target_size=(224,224),\n",
    "                                                        batch_size=N_BATCHS,\n",
    "                                                        class_mode='categorical')    \n",
    "    val_generator = test_datagen.flow_from_directory(validation_dir,\n",
    "                                                        target_size=(224,224),\n",
    "                                                        batch_size=N_BATCHS,\n",
    "                                                        class_mode='categorical')\n",
    "    # test_generator = test_datagen.flow_from_directory(test_dir,\n",
    "    #                                                     target_size=(224,224),\n",
    "    #                                                     batch_size=N_BATCHS,\n",
    "    #                                                     class_mode='categorical')\n",
    "    return train_generator, val_generator # test_generator"
   ]
  },
  {
   "cell_type": "code",
   "execution_count": null,
   "metadata": {},
   "outputs": [],
   "source": [
    "conv_base = MobileNetV2(weights=\"imagenet\",\n",
    "                        include_top=False,\n",
    "                        input_tensor=Input(shape=(224,224,3))\n",
    "                        )"
   ]
  },
  {
   "cell_type": "code",
   "execution_count": null,
   "metadata": {},
   "outputs": [],
   "source": [
    "from tensorflow.keras import layers\n",
    "\n",
    "def create_model():\n",
    "    conv_base = MobileNetV2(weights=\"imagenet\", include_top=False, input_tensor=Input(shape=(224,224,3)))\n",
    "    conv_base.trainable = False # 학습시 weight 최적화(update)를 하지 않도록 설정. => 모델 컴파일 전에 실행\n",
    "\n",
    "    model = keras.Sequential()\n",
    "    model.add(conv_base)\n",
    "    model.add(layers.GlobalAveragePooling2D())\n",
    "    model.add(layers.Dense(256, activation='relu'))\n",
    "    model.add(layers.BatchNormalization()) # << 찾아보기\n",
    "    model.add(layers.Dense(128, activation='relu'))\n",
    "    model.add(layers.Dropout(rate=0.5))\n",
    "\n",
    "    # 출력\n",
    "    model.add(layers.Dense(N_CLASS, activation='softmax'))\n",
    "\n",
    "    return model"
   ]
  },
  {
   "cell_type": "code",
   "execution_count": null,
   "metadata": {},
   "outputs": [],
   "source": [
    "model = create_model()\n",
    "model.compile(optimizer=keras.optimizers.Adam(learning_rate=LEARNING_RATE),\n",
    "              loss='categorical_crossentropy', metrics=['accuracy'])\n",
    "model.summary()"
   ]
  },
  {
   "cell_type": "code",
   "execution_count": null,
   "metadata": {},
   "outputs": [],
   "source": [
    "train_iterator, validation_iterator = get_generators()"
   ]
  },
  {
   "cell_type": "code",
   "execution_count": null,
   "metadata": {},
   "outputs": [],
   "source": [
    "h_callback = keras.callbacks.ModelCheckpoint('./models', monitor='val_loss', save_best_only=True)\n",
    "\n",
    "history = model.fit(train_iterator,\n",
    "                    epochs=N_EPOCHS,\n",
    "                    steps_per_epoch=len(train_iterator),\n",
    "                    validation_data=validation_iterator,\n",
    "                    validation_steps=len(validation_iterator),\n",
    "                    callbacks=[h_callback])"
   ]
  },
  {
   "cell_type": "code",
   "execution_count": null,
   "metadata": {},
   "outputs": [],
   "source": [
    "# plot the training loss and accuracy\n",
    "N = N_EPOCHS\n",
    "plt.style.use(\"ggplot\")\n",
    "plt.figure()\n",
    "plt.plot(np.arange(0, N), history.history[\"loss\"], label=\"train_loss\")\n",
    "plt.plot(np.arange(0, N), history.history[\"val_loss\"], label=\"val_loss\")\n",
    "plt.plot(np.arange(0, N), history.history[\"accuracy\"], label=\"train_acc\")\n",
    "plt.plot(np.arange(0, N), history.history[\"val_accuracy\"], label=\"val_acc\")\n",
    "plt.title(\"Training Loss and Accuracy\")\n",
    "plt.xlabel(\"Epoch #\")\n",
    "plt.ylabel(\"Loss/Accuracy\")\n",
    "plt.legend(loc=\"lower left\")\n",
    "# plt.savefig(args[\"plot\"])"
   ]
  },
  {
   "cell_type": "code",
   "execution_count": null,
   "metadata": {},
   "outputs": [],
   "source": [
    "# 모델 predict\n",
    "import imutils # opencv의 부족한 점을 채워준다 머시기..\n",
    "# from google.colab.patches import cv2_imshow # colab에서 쓸 수 있는 imshow\n",
    "img_path = './final/roll2.png'\n",
    "# img_path = './final/forward4.png'\n",
    "# img_path = './final/backward3.png'\n",
    "img = load_img(img_path, target_size=(224,224)) # target_size를 지정 : 읽어올 때 resize처리한다.\n",
    "\n",
    "# ndarray 변환\n",
    "sample = img_to_array(img)\n",
    "\n",
    "# batch크기 축(0번 축) 늘리기\n",
    "sample_x = sample[np.newaxis, ...]\n",
    "sample_x = sample_x/255."
   ]
  },
  {
   "cell_type": "code",
   "execution_count": null,
   "metadata": {},
   "outputs": [],
   "source": [
    "pred  = model.predict(sample_x)\n",
    "print(pred)\n",
    "# 추론\n",
    "# 0 : backward 1 : fast_forward 2 : forward\n",
    "pred_class = np.argmax(pred, axis=-1)\n",
    "print(pred_class) #, label[pred_class[0]])"
   ]
  },
  {
   "cell_type": "code",
   "execution_count": null,
   "metadata": {},
   "outputs": [],
   "source": [
    "import imutils # opencv의 부족한 점을 채워준다 머시기..\n",
    "# from google.colab.patches import cv2_imshow # colab에서 쓸 수 있는 imshow\n",
    "\n",
    "image = './final/forward.png'\n",
    "image = cv2.imread(image, cv2.IMREAD_GRAYSCALE)\n",
    "cv2.imshow(\"image\",image)\n",
    "cv2.waitKey(0)"
   ]
  },
  {
   "cell_type": "code",
   "execution_count": null,
   "metadata": {},
   "outputs": [],
   "source": []
  },
  {
   "cell_type": "code",
   "execution_count": null,
   "metadata": {},
   "outputs": [],
   "source": []
  },
  {
   "cell_type": "code",
   "execution_count": null,
   "metadata": {},
   "outputs": [],
   "source": []
  },
  {
   "cell_type": "code",
   "execution_count": null,
   "metadata": {},
   "outputs": [],
   "source": []
  }
 ],
 "metadata": {
  "kernelspec": {
   "display_name": "Python 3",
   "language": "python",
   "name": "python3"
  },
  "language_info": {
   "codemirror_mode": {
    "name": "ipython",
    "version": 3
   },
   "file_extension": ".py",
   "mimetype": "text/x-python",
   "name": "python",
   "nbconvert_exporter": "python",
   "pygments_lexer": "ipython3",
   "version": "3.8.5"
  }
 },
 "nbformat": 4,
 "nbformat_minor": 4
}